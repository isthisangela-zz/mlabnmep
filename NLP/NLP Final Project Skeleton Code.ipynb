{
 "cells": [
  {
   "cell_type": "markdown",
   "metadata": {},
   "source": [
    "    Write functions for each Step\n",
    "        1. Loading Movie Lines Data\n",
    "        2. Clean Movie Lines Data\n",
    "        3. Build Transformer & Seq2Seq Architecture\n",
    "        4. Train & Hyperparamter Search\n",
    "        5. Test/Inference\n"
   ]
  },
  {
   "cell_type": "code",
   "execution_count": 3,
   "metadata": {},
   "outputs": [
    {
     "ename": "SyntaxError",
     "evalue": "invalid syntax (<ipython-input-3-6efcd7f19a03>, line 10)",
     "output_type": "error",
     "traceback": [
      "\u001b[0;36m  File \u001b[0;32m\"<ipython-input-3-6efcd7f19a03>\"\u001b[0;36m, line \u001b[0;32m10\u001b[0m\n\u001b[0;31m    line = line.lower() //Lowercase all movie lines\u001b[0m\n\u001b[0m                                      ^\u001b[0m\n\u001b[0;31mSyntaxError\u001b[0m\u001b[0;31m:\u001b[0m invalid syntax\n"
     ]
    }
   ],
   "source": [
    "'''\n",
    "    Starter Code for Step 1: Loading Data\n",
    "'''\n",
    "\n",
    "with open('movie_lines.tsv', 'r') as f, open('movie_lines_clean.tsv', 'w') as fo:\n",
    "    cols = [\"lineID\", \"charID\", \"movieID\", \"charName\", \"text\"]\n",
    "    newLine = \"\\t\".join(cols) + \"\\n\"\n",
    "    fo.write(newLine)\n",
    "    for line in f:\n",
    "        line = line.lower() //Lowercase all movie lines"
   ]
  },
  {
   "cell_type": "code",
   "execution_count": null,
   "metadata": {},
   "outputs": [],
   "source": []
  }
 ],
 "metadata": {
  "kernelspec": {
   "display_name": "Python 3",
   "language": "python",
   "name": "python3"
  },
  "language_info": {
   "codemirror_mode": {
    "name": "ipython",
    "version": 3
   },
   "file_extension": ".py",
   "mimetype": "text/x-python",
   "name": "python",
   "nbconvert_exporter": "python",
   "pygments_lexer": "ipython3",
   "version": "3.6.5"
  }
 },
 "nbformat": 4,
 "nbformat_minor": 2
}
