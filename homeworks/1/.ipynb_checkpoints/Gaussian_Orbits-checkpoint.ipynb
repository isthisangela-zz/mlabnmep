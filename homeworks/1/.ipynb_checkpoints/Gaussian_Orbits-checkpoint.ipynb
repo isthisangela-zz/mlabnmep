{
 "cells": [
  {
   "cell_type": "markdown",
   "metadata": {},
   "source": [
    "# Gaussian Orbits\n",
    "\n",
    "In this homework, we will use linear regression methods in order to determine the orbits of heavenly bodies.\n",
    "\n",
    "### Background\n",
    "\n",
    "In 1801 the minor planet Ceres was first observed for a period of 40 days before moving behind the sun. To predict the location of Ceres astronomers would have to solve complicated non-linear differential equations, quite a task in an era before computers or calculators. However, Carl Friedrich Gauss had another idea. By single handedly developing the theory of least squares and linear regression and applying it to the problem of finding Ceres, Gauss managed to accurately predict the location of the minor planet nearly a year after it's last sighting.\n",
    "\n",
    "<img src=\"https://upload.wikimedia.org/wikipedia/commons/3/33/Bendixen_-_Carl_Friedrich_Gau%C3%9F%2C_1828.jpg\" width=400px>\n",
    "\n",
    "In this problem we likewise attempt to predict the orbit of a \"planet\" and in the process \"derive\" the formula for an ellipse, the shape of orbits of heavenly bodies.\n",
    "\n",
    "### 0. Import a bunch of stuff!\n",
    "\n",
    "Imports needed in this notebook: `numpy`, `matplotlib.pyplot`, from sklearn: `LinearRegression`, `ElasticNet`, and `mean_squared_error`"
   ]
  },
  {
   "cell_type": "code",
   "execution_count": 234,
   "metadata": {},
   "outputs": [],
   "source": [
    "import numpy as np\n",
    "import matplotlib.pyplot as plt\n",
    "from sklearn.linear_model import LinearRegression, ElasticNet\n",
    "from sklearn.metrics import mean_squared_error"
   ]
  },
  {
   "cell_type": "markdown",
   "metadata": {},
   "source": [
    "### 1. Generate Data\n",
    "\n",
    "The idea here is we generate data in the shape of an ellipse. To do this we use the formula of an ellipse in polar coordinates:\n",
    "\n",
    "$$ r = \\frac{ep}{1-e \\cos(\\theta)} $$\n",
    "\n",
    "where $ e $ is the eccentricity and $ p $ is the distance from the minor axis to the directrix (read \"length\"). In addition, we add random noise to the data.\n",
    "\n",
    "We will then try to fit curves to our synthetic dataset."
   ]
  },
  {
   "cell_type": "code",
   "execution_count": 235,
   "metadata": {},
   "outputs": [
    {
     "data": {
      "image/png": "[encoded data removed]",
      "text/plain": [
       "<matplotlib.figure.Figure at 0x1a15ca3518>"
      ]
     },
     "metadata": {},
     "output_type": "display_data"
    }
   ],
   "source": [
    "def gen_data(e, p, o):\n",
    "    theta = np.linspace(0,2*np.pi, 200)\n",
    "\n",
    "    # Ellipse with eccentricity e\n",
    "    # Axis \"length\" p\n",
    "    # Offset by .5 angularly\n",
    "    r = e*p/(1-e*np.cos(theta - o)) \n",
    "\n",
    "    # transform to cartesian\n",
    "    x = r * np.cos(theta)\n",
    "    y = r * np.sin(theta)\n",
    "\n",
    "    # Add noise\n",
    "    x += np.random.randn(x.shape[0]) / 20\n",
    "    y += np.random.randn(y.shape[0]) / 20\n",
    "\n",
    "    # plot\n",
    "    plt.scatter(x, y)\n",
    "    plt.show()\n",
    "\n",
    "    # saving\n",
    "    np.save('x.npy', x)\n",
    "    np.save('y.npy', y)\n",
    "\n",
    "gen_data(.5, 2, .5)"
   ]
  },
  {
   "cell_type": "markdown",
   "metadata": {},
   "source": [
    "### 2. Use sklearn's LinearRegression\n",
    "\n",
    "Try to fit a `LinearRegression` model to `x` and `y` (let $ x $ be the independent variable and $ y $ be the dependent variable). Print out the `mean_squared_error` you get and plot both `x`, `y` (scatter plot), and the predicted orbit (line plot).\n",
    "\n",
    "This is a really dumb idea, please explain:"
   ]
  },
  {
   "cell_type": "code",
   "execution_count": 367,
   "metadata": {},
   "outputs": [
    {
     "data": {
      "image/png": "[encoded data removed]",
      "text/plain": [
       "<matplotlib.figure.Figure at 0x1a15e8bd68>"
      ]
     },
     "metadata": {},
     "output_type": "display_data"
    },
    {
     "name": "stdout",
     "output_type": "stream",
     "text": [
      "0.660839702414\n"
     ]
    }
   ],
   "source": [
    "x, y = np.load('x.npy'), np.load('y.npy')\n",
    "\n",
    "x = np.vstack(x)\n",
    "y = np.vstack(y)\n",
    "\n",
    "lr = LinearRegression()\n",
    "lr.fit(X=x, y=y)\n",
    "\n",
    "plt.scatter(x, y)\n",
    "plt.plot(x, lr.predict(x))\n",
    "plt.show()\n",
    "\n",
    "print(mean_squared_error(y_true=y, y_pred=lr.predict(x)))\n",
    "\n",
    "# This is dumb because we're trying to model a 2D ellipse using a 1D straight line, \n",
    "# obviously the error will be massive"
   ]
  },
  {
   "cell_type": "markdown",
   "metadata": {},
   "source": [
    "### 3. Experimentation time!\n",
    "\n",
    "Try adding new features to your linear model by manipulating $ x $! For example, try adding a quadratic term, $ x^2 $ or a root term like $ \\sqrt{x} $. Print out the MSE of your model and plot both `x`, `y` (scatter plot), and the predicted orbit (line plot). This time, your model should take in an expanded set of features and predict $ y $.\n",
    "\n",
    "Hint: `np.vstack` may be useful here.\n",
    "\n",
    "This is still a really dumb idea, please explain:"
   ]
  },
  {
   "cell_type": "code",
   "execution_count": 237,
   "metadata": {},
   "outputs": [
    {
     "data": {
      "image/png": "[encoded data removed]",
      "text/plain": [
       "<matplotlib.figure.Figure at 0x1a1457c1d0>"
      ]
     },
     "metadata": {},
     "output_type": "display_data"
    }
   ],
   "source": [
    "squared = x ** 2\n",
    "cubed = x ** 3\n",
    "features = np.hstack((x, squared, cubed))\n",
    "\n",
    "lr = LinearRegression()\n",
    "lr.fit(X=features, y=y)\n",
    "\n",
    "plt.scatter(x, y)\n",
    "plt.plot(x, lr.predict(features))\n",
    "plt.show()\n",
    "\n",
    "# Dumb because regardless of how many features you add,\n",
    "# the set isn't accurately modeled by a 1:1 linear regression, \n",
    "# especially because most of the x values have multiple y values"
   ]
  },
  {
   "cell_type": "markdown",
   "metadata": {},
   "source": [
    "### 4. Plane Curves\n",
    "\n",
    "As you've probably figured out, the above two methods are pretty crap at predicting orbits. What we really need to do is predict a curve in the plane. First, let's erase some of the data so what we're doing is actually a challenge. Just run the code in the next box:"
   ]
  },
  {
   "cell_type": "code",
   "execution_count": 238,
   "metadata": {},
   "outputs": [
    {
     "data": {
      "image/png": "[encoded data removed]",
      "text/plain": [
       "<matplotlib.figure.Figure at 0x1a16029080>"
      ]
     },
     "metadata": {},
     "output_type": "display_data"
    }
   ],
   "source": [
    "# Create a mask where x < 0 or y < 0\n",
    "def mask():\n",
    "    global x\n",
    "    global y\n",
    "    \n",
    "    mask = (x < 0) + (y < 0)\n",
    "    x = x[mask]\n",
    "    y = y[mask]\n",
    "    \n",
    "    # plot erased data\n",
    "    plt.scatter(x, y)\n",
    "    plt.show()\n",
    "\n",
    "mask()"
   ]
  },
  {
   "cell_type": "markdown",
   "metadata": {},
   "source": [
    "Now the most general form of a plane curve is\n",
    "\n",
    "$$ f(x,y) = 0 $$\n",
    "\n",
    "In order to simplify our lives a bit, let's restrict this to something of the form:\n",
    "\n",
    "$$ ax^2 + bxy + cy^2 + dx + ey + f = 0 $$\n",
    "\n",
    "You may recognize this as the general form of a conic! Let's take our data and try to predict the best possible coefficients here using least squares. This way, these coefficients should give the best possible approximation to the orbit. Print your predicted coefficients.\n",
    "\n",
    "Hint: Think about the features you need. (6 total)\n",
    "\n",
    "Hint: Use the normal equation instead of sklearn.\n",
    "\n",
    "Hint: This is going to fail, why?"
   ]
  },
  {
   "cell_type": "code",
   "execution_count": 239,
   "metadata": {},
   "outputs": [
    {
     "name": "stdout",
     "output_type": "stream",
     "text": [
      "[ 0.  0.  0.  0.  0.  0.]\n"
     ]
    }
   ],
   "source": [
    "x1 = np.vstack(x)\n",
    "y1 = np.vstack(y)\n",
    "length = x1.shape[0]\n",
    "\n",
    "features = np.hstack((x1*x1, x1*y1, y1*y1, x1, y1, np.vstack(np.ones(length))))\n",
    "coeff = np.linalg.inv(features.T.dot(features)).dot(features.T).dot(np.zeros(length))\n",
    "\n",
    "print(coeff)\n",
    "\n",
    "# Fails because the equation is always set to 0, so instead of accurately fitting,\n",
    "# the model will cop out by setting all coefficients to 0 to satisfy this"
   ]
  },
  {
   "cell_type": "markdown",
   "metadata": {},
   "source": [
    "### 5. Reformulation\n",
    "\n",
    "The above should fail for a very trivial (pun intended) reason. The reason is that if we simply set all the coefficients to zero, we get a perfect solution! We can see this in the normal equations:\n",
    "\n",
    "$$ (A^TA)^{-1} A^T b = x $$\n",
    "\n",
    "but $ b = \\vec 0 $ in our case, thus $ x = \\vec 0 $ trivially.\n",
    "\n",
    "How do we get around this? One thing we can do is to not have $ b = \\vec 0 $. To do this, let us modify the general form of a plane curve a bit:\n",
    "\n",
    "$$ f(x,y) + 1 = 1 $$\n",
    "\n",
    "Now our restricted plane curve will be of the form\n",
    "\n",
    "$$ ax^2 + bxy + cy^2 + dx + ey + f + 1 = 1 $$\n",
    "\n",
    "Is this just an aesthetic change? or will this actually help? Code it up and find out! Plot your model using the handy dandy `plot_conic` function"
   ]
  },
  {
   "cell_type": "code",
   "execution_count": 240,
   "metadata": {
    "collapsed": true
   },
   "outputs": [],
   "source": [
    "# This function should help you plot your ellipses:\n",
    "\n",
    "def plot_conic(coeff):\n",
    "    '''\n",
    "    params\n",
    "    ------\n",
    "    coeff : array[6] floats\n",
    "        Array of 6 floats, corresponding to \n",
    "        a, b, c, d, e, and f respectively\n",
    "        in the equation above\n",
    "    '''\n",
    "    xv = np.linspace(-9, 9, 400)\n",
    "    yv = np.linspace(-5, 5, 400)\n",
    "    xv, yv = np.meshgrid(xv, yv)\n",
    "\n",
    "    def axes():\n",
    "        plt.axhline(0, alpha=.1)\n",
    "        plt.axvline(0, alpha=.1)\n",
    "\n",
    "    axes()\n",
    "    plt.contour(xv, yv, xv*xv*coeff[0] + xv*yv*coeff[1] + yv*yv*coeff[2] + xv*coeff[3] + yv*coeff[4] + coeff[5], [0], colors='k')\n",
    "    plt.scatter(x,y)\n",
    "    plt.show()"
   ]
  },
  {
   "cell_type": "code",
   "execution_count": 241,
   "metadata": {},
   "outputs": [
    {
     "data": {
      "image/png": "[encoded data removed]",
      "text/plain": [
       "<matplotlib.figure.Figure at 0x1a15e14a58>"
      ]
     },
     "metadata": {},
     "output_type": "display_data"
    },
    {
     "name": "stdout",
     "output_type": "stream",
     "text": [
      "[  6.66133815e-15  -2.53685961e-14   2.44249065e-14  -2.98649994e-14\n",
      "  -7.04991621e-15  -2.98649994e-14]\n"
     ]
    }
   ],
   "source": [
    "x1 = np.vstack(x)\n",
    "y1 = np.vstack(y)\n",
    "length = x1.shape[0]\n",
    "\n",
    "features = np.hstack((x1*x1, x1*y1, y1*y1, x1, y1, np.vstack(np.ones(length))))\n",
    "coeff = np.linalg.inv(features.T.dot(features)).dot(features.T).dot(np.ones(length))\n",
    "coeff[5] -= 1\n",
    "\n",
    "plot_conic(coeff)\n",
    "\n",
    "print(coeff)"
   ]
  },
  {
   "cell_type": "markdown",
   "metadata": {},
   "source": [
    "### 6. Ridge\n",
    "\n",
    "So, reformulating the problem might have worked, but more than likely it didn't work too well. Here's some code to generate new data. Try running the above model multiple times on different data. More than likely most of them will look terrible."
   ]
  },
  {
   "cell_type": "code",
   "execution_count": 242,
   "metadata": {},
   "outputs": [
    {
     "data": {
      "image/png": "[encoded data removed]",
      "text/plain": [
       "<matplotlib.figure.Figure at 0x1a15c3e978>"
      ]
     },
     "metadata": {},
     "output_type": "display_data"
    },
    {
     "data": {
      "image/png": "[encoded data removed]",
      "text/plain": [
       "<matplotlib.figure.Figure at 0x1a15c3ae80>"
      ]
     },
     "metadata": {},
     "output_type": "display_data"
    }
   ],
   "source": [
    "# Regenerate data\n",
    "gen_data(.5, 2, .5)\n",
    "mask()"
   ]
  },
  {
   "cell_type": "markdown",
   "metadata": {},
   "source": [
    "The problem here is that our method is too unstable. It turns out the Ridge Regression as a regularizer can reduce numerical instability and constrain under-constrained problems. Try rewriting the regression from above using ridge regression and see how well it does. Plot out the model using `plot_conic`. Compare the results with the previous method.\n",
    "\n",
    "Hint: Use the `regenerate data` block to try new data\n",
    "\n",
    "Hint: There is really only one extra term between this question and the previous"
   ]
  },
  {
   "cell_type": "code",
   "execution_count": 243,
   "metadata": {},
   "outputs": [
    {
     "data": {
      "image/png": "[encoded data removed]",
      "text/plain": [
       "<matplotlib.figure.Figure at 0x1a15f60d30>"
      ]
     },
     "metadata": {},
     "output_type": "display_data"
    },
    {
     "name": "stdout",
     "output_type": "stream",
     "text": [
      "[ 0.20179508 -0.04951184  0.24054075 -0.20775494 -0.11490063 -0.26815099]\n"
     ]
    }
   ],
   "source": [
    "x1 = np.vstack(x)\n",
    "y1 = np.vstack(y)\n",
    "length = x1.shape[0]\n",
    "lam = 3\n",
    "lam_matrix = np.identity(features.shape[1]) * lam\n",
    "\n",
    "features = np.hstack((x1*x1, x1*y1, y1*y1, x1, y1, np.vstack(np.ones(length))))\n",
    "coeff = np.linalg.inv(features.T.dot(features) + lam_matrix) \\\n",
    "    .dot(features.T).dot(np.ones(length))\n",
    "coeff[5] -= 1\n",
    "\n",
    "plot_conic(coeff)\n",
    "\n",
    "print(coeff)"
   ]
  },
  {
   "cell_type": "markdown",
   "metadata": {},
   "source": [
    "### 7. \"Deriving\" an Ellipse\n",
    "\n",
    "LASSO regularization is a _sparse feature selector_ in the sense that it zeros out \"useless\" features and keeps relevant features. It's a good way to reduce the number of features you have to use. \n",
    "\n",
    "In this case we're going to pretend we don't know what form the equation of an ellipse takes. We can add random monomials to form a guess:\n",
    "\n",
    "$$ ax^2 + bxy + cy^2 + dx + ey + f + gx^3 + hy^3 + jx^2y + \\cdots + 1 = 1 $$\n",
    "\n",
    "The idea here is that if we use LASSO regression on the above equation, the terms irrelevant to an ellipse will \"zero out\" and the quadratic and lower terms won't! Try this out, and print out the coefficients. No gurantees this will works 100% :), but you should find that all coefficients greater than quadratic zero out.\n",
    "\n",
    "`Hint`: We want to keep the ridge regularization to maintain numerical stabilitiy. So we need a combined Ridge and LASSO regression. For some reason, this model is called `ElasticNet` from sklearn. Use that model.\n",
    "\n",
    "`Hint`: You might have to play around with the parameters a bit. I used these `l1_ratio=.23, alpha=.01` to produce some pretty good results"
   ]
  },
  {
   "cell_type": "code",
   "execution_count": 257,
   "metadata": {},
   "outputs": [
    {
     "name": "stdout",
     "output_type": "stream",
     "text": [
      "[ 0.06557461 -0.          0.0826897  -0.0584044  -0.03007867  0.91142422\n",
      " -0.         -0.         -0.          0.        ]\n"
     ]
    }
   ],
   "source": [
    "x1 = np.vstack(x)\n",
    "y1 = np.vstack(y)\n",
    "length = x1.shape[0]\n",
    "\n",
    "features = np.hstack((x1*x1, x1*y1, y1*y1, x1, y1, np.vstack(np.ones(length)), \\\n",
    "                     x1*x1*x1, y1*y1*y1, x1*x1*y1, y1*y1*x1))\n",
    "en = ElasticNet(fit_intercept=False, l1_ratio=.23, alpha=.01)\n",
    "en.fit(X=features, y=np.ones(length))\n",
    "coeff = en.coef_\n",
    "\n",
    "print(coeff)"
   ]
  },
  {
   "cell_type": "markdown",
   "metadata": {},
   "source": [
    "### 8. Evaluate this model!\n",
    "\n",
    "Run this code block below. This code block assumes that you have an array called `coeff` which has  10 elements."
   ]
  },
  {
   "cell_type": "code",
   "execution_count": 258,
   "metadata": {},
   "outputs": [
    {
     "data": {
      "image/png": "[encoded data removed]",
      "text/plain": [
       "<matplotlib.figure.Figure at 0x1a15dba860>"
      ]
     },
     "metadata": {},
     "output_type": "display_data"
    }
   ],
   "source": [
    "xv = np.linspace(-9, 9, 400)\n",
    "yv = np.linspace(-5, 5, 400)\n",
    "xv, yv = np.meshgrid(xv, yv)\n",
    "\n",
    "def axes():\n",
    "    plt.axhline(0, alpha=.1)\n",
    "    plt.axvline(0, alpha=.1)\n",
    "\n",
    "axes()\n",
    "plt.contour(xv, yv, xv*xv*coeff[0] + xv*yv*coeff[1] + yv*yv*coeff[2] + xv*coeff[3] + yv*coeff[4] + coeff[5] - 1 + coeff[6]*xv*xv*xv + coeff[7]*yv*yv*yv + coeff[8]*xv*xv*yv + coeff[9]*xv*yv*yv , [0], colors='k')\n",
    "plt.scatter(x,y)\n",
    "plt.show()"
   ]
  },
  {
   "cell_type": "markdown",
   "metadata": {},
   "source": [
    "### 9. Poisoned Data\n",
    "\n",
    "New problem. Scenario: You want to buy a house from a realtor, and you know that the realtor uses a linear regression model to price their houses. You hack into the realtor's comptuer and are allowed to add a single data point to their training set. Add this data point to the training set such that a linear model would predict the first row to have a value of 5."
   ]
  },
  {
   "cell_type": "code",
   "execution_count": 369,
   "metadata": {},
   "outputs": [
    {
     "name": "stdout",
     "output_type": "stream",
     "text": [
      "21.8948311888\n",
      "before: 30.0038420574\n",
      "after: 5.00000342971\n"
     ]
    }
   ],
   "source": [
    "boston = np.loadtxt(open(\"boston.csv\", \"rb\"), delimiter=\",\", skiprows=1)\n",
    "X = boston[:,:-1]\n",
    "y = boston[:, -1]\n",
    "\n",
    "lr = LinearRegression()\n",
    "lr.fit(X=X, y=y)\n",
    "\n",
    "mse = mean_squared_error(y_true=y, y_pred=lr.predict(X))\n",
    "print(mse)\n",
    "print('before:', lr.predict(X)[0])\n",
    "\n",
    "Xfucked = np.vstack((X, np.zeros(X.shape[1])))\n",
    "yfucked = np.hstack((y, [-1840.5567]))\n",
    "\n",
    "lrfucked = LinearRegression()\n",
    "lrfucked.fit(X=Xfucked, y=yfucked)\n",
    "\n",
    "print('after:', lrfucked.predict(Xfucked)[0])"
   ]
  },
  {
   "cell_type": "markdown",
   "metadata": {},
   "source": [
    "What you've done here is to \"poison\" a dataset. Essentially messing with the training data to mess with the final model. There are of course many ways to prevent this from happening. Eliminating outliers is one possible method. But there are also many other possible methods to poison a dataset. This idea is very similar to the idea of `adversarial examples`"
   ]
  },
  {
   "cell_type": "markdown",
   "metadata": {},
   "source": [
    "### 10. More Ridge Regression & Vector Calculus!\n",
    "\n",
    "As demonstrated above, ridge regression can help overcome numerical instability and generalization issues that ordinary least squares (OLS) can fall short to. \n",
    "\n",
    "We mentioned during lecture that one of the caveats of OLS was the assumption that out input matrix, $X$, is full rank.  However, when the features of our data are close to collinear, $X$ might lose rank or have singular values very close to 0. This means $(X^TX)^{-1}$ will have extremely large singular values resulting in abnormally high values in the optimal $w$ solution (our parameters).\n",
    "\n",
    "However, there is a very simple solution for this!\n",
    "\n",
    "$$\\min_w \\Vert{\\bf Xw - y}\\Vert_2^2 + \\lambda\\Vert{\\bf w}\\Vert_2^2$$ \n",
    "\n",
    "By adding a penalty term with a fixed small scalar $\\lambda > 0$ (this is a hyperparameter!), we can prevent $w$ from becoming too large.\n",
    "\n",
    "-----\n",
    "\n",
    "In lecture we defined our OLS loss function to be:\n",
    "\n",
    "$$L(w) = \\Vert{\\bf Xw - y}\\Vert_2^2$$\n",
    "\n",
    "Our new loss function with the penalty term is:\n",
    "\n",
    "$$L(w) = \\Vert{\\bf Xw - y}\\Vert_2^2 + \\lambda\\Vert{\\bf w}\\Vert_2^2$$\n",
    "\n",
    "**TO DO:**  Using vector calculus, derive the optimal solution $w$ for the ridge regression loss function. (hint: calculate the gradient!)\n",
    "\n",
    "You can include this in your PDF submission."
   ]
  },
  {
   "cell_type": "code",
   "execution_count": null,
   "metadata": {
    "collapsed": true
   },
   "outputs": [],
   "source": []
  }
 ],
 "metadata": {
  "kernelspec": {
   "display_name": "Python 3",
   "language": "python",
   "name": "python3"
  },
  "language_info": {
   "codemirror_mode": {
    "name": "ipython",
    "version": 3
   },
   "file_extension": ".py",
   "mimetype": "text/x-python",
   "name": "python",
   "nbconvert_exporter": "python",
   "pygments_lexer": "ipython3",
   "version": "3.6.3"
  }
 },
 "nbformat": 4,
 "nbformat_minor": 2
}
